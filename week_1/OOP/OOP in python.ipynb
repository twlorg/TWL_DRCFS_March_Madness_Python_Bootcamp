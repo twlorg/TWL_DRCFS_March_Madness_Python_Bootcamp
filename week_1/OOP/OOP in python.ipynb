{
 "cells": [
  {
   "cell_type": "markdown",
   "id": "2b862d53",
   "metadata": {},
   "source": [
    "# Object Oriented Programming in Python\n",
    "Object-oriented programming is a programming paradigm that revolves around the concept of \"objects,\" which are instances of a class that encapsulate data and behavior. Python is an object-oriented language that supports the creation of classes and objects.\n",
    "\n",
    "\n",
    "## What is class in python?\n",
    "In Python, a class is like a blueprint for creating objects. A class defines the attributes (i.e. variables) and methods (i.e. functions) that an object will have.\n",
    "\n",
    "For example, consider a simple example of a person. <b> What could be the attributes that defines a person?</b>. To name a few, a person can include attributes like name, age, gender, height, weight, etc.\n",
    "\n",
    "We can create a class `person` that can contain the following attributes and create a few objects out of the class blueprint. "
   ]
  },
  {
   "cell_type": "code",
   "execution_count": 3,
   "id": "d3032183",
   "metadata": {},
   "outputs": [],
   "source": [
    "class Person:\n",
    "    def __init__(self, name, age, gender, height, weight):\n",
    "        self.name = name\n",
    "        self.age = age\n",
    "        self.gender = gender\n",
    "        self.height = height\n",
    "        self.weight = weight\n",
    "\n"
   ]
  },
  {
   "cell_type": "markdown",
   "id": "a2fa2651",
   "metadata": {},
   "source": [
    "In this implementation, the Person class has five attributes: name, age, gender, height, and weight.\n",
    "\n",
    "The \\_\\_init__ method is a special method that gets called when you create a new instance of the class. It takes three arguments: name, age, gender, height and weight. Inside the \\_\\_init__ method, we assign these arguments to instance variables using the self keyword. This special method is called constructor method.\n",
    "\n",
    "Convention to define a class: use PascalCase naming convention to write a class name. give 2 line breaks before and after defining a class in scripts.\n"
   ]
  },
  {
   "cell_type": "markdown",
   "id": "d3fee3f8",
   "metadata": {},
   "source": [
    "## What is self in the \\_\\_init__() method?\n",
    "In Python, self refers to the instance of the class that a method is being called on. When you create an object from a class, that object is an instance of that class, and it has its own unique set of attributes and behaviors. The self keyword is used to refer to that particular instance of the class.\n",
    "\n",
    "In this example, the \\_\\_init__ method takes a self parameter. When you call this method on an instance of the Person class, you don't need to pass in the self parameter explicitly - Python takes care of that for you. For example, if you create an instance of the Person class and call the \\_\\_init__ method, like this:"
   ]
  },
  {
   "cell_type": "code",
   "execution_count": 4,
   "id": "2351fa01",
   "metadata": {},
   "outputs": [],
   "source": [
    "person1 = Person(\"Rajkumar\", 25, \"Male\", 1.6, 60)\n",
    "person2 = Person(\"Rajkumari\", 30, \"Female\", 1.8, 80)"
   ]
  },
  {
   "cell_type": "markdown",
   "id": "0169c076",
   "metadata": {},
   "source": [
    "Here, we've created two Person objects named person1 and person2. Each object has its own name, age, and gender attributes.\n",
    "\n",
    "We can access these attributes using dot notation:"
   ]
  },
  {
   "cell_type": "code",
   "execution_count": 6,
   "id": "799d3e3b",
   "metadata": {},
   "outputs": [
    {
     "data": {
      "text/plain": [
       "('Rajkumar', 25, 'Female', 'Rajkumari')"
      ]
     },
     "execution_count": 6,
     "metadata": {},
     "output_type": "execute_result"
    }
   ],
   "source": [
    "person1.name, person1.age, person2.gender, person2.name"
   ]
  },
  {
   "cell_type": "markdown",
   "id": "c0d37fcf",
   "metadata": {},
   "source": [
    "In addition to attributes, classes can also have methods. These are functions that belong to the class and can be called on instances of the class. In object-oriented programming (OOP), a method is a programmed procedure that is defined as part of a class and is available to any object instantiated from that class. Each object can call the method, which runs within the context of the object that calls it. For example, we could add a method to the Person class that prints out a greeting:"
   ]
  },
  {
   "cell_type": "code",
   "execution_count": 17,
   "id": "a0a747a2",
   "metadata": {},
   "outputs": [],
   "source": [
    "class Person:\n",
    "    def __init__(self, name, age, gender, height, weight):\n",
    "        self.name = name\n",
    "        self.age = age\n",
    "        self.gender = gender\n",
    "        self.height = height\n",
    "        self.weight = weight\n",
    "\n",
    "    def say_hello(self, name):\n",
    "        print(f\"Hello {name}, my name is {self.name}. I am {self.age} years old.\")"
   ]
  },
  {
   "cell_type": "code",
   "execution_count": 24,
   "id": "0dc5f160",
   "metadata": {},
   "outputs": [],
   "source": [
    "person1 = Person(\"Radha\", 25, \"female\", 1.6, 60)\n",
    "person2 = Person(\"Ram\", 25, \"male\", 1.6, 60)"
   ]
  },
  {
   "cell_type": "code",
   "execution_count": 25,
   "id": "d4b2bb97",
   "metadata": {},
   "outputs": [
    {
     "data": {
      "text/plain": [
       "'Ram'"
      ]
     },
     "execution_count": 25,
     "metadata": {},
     "output_type": "execute_result"
    }
   ],
   "source": [
    "person2.name"
   ]
  },
  {
   "cell_type": "code",
   "execution_count": 26,
   "id": "b29f3bd2",
   "metadata": {
    "scrolled": true
   },
   "outputs": [
    {
     "name": "stdout",
     "output_type": "stream",
     "text": [
      "Hello Ram, my name is Radha. I am 25 years old.\n"
     ]
    }
   ],
   "source": [
    "person1.say_hello(person2.name)"
   ]
  },
  {
   "cell_type": "code",
   "execution_count": 27,
   "id": "69e01d76",
   "metadata": {},
   "outputs": [
    {
     "name": "stdout",
     "output_type": "stream",
     "text": [
      "Hello Krishna, my name is Ram. I am 25 years old.\n"
     ]
    }
   ],
   "source": [
    "person2.say_hello(\"Krishna\")"
   ]
  },
  {
   "cell_type": "code",
   "execution_count": 28,
   "id": "21773e30",
   "metadata": {},
   "outputs": [
    {
     "name": "stdout",
     "output_type": "stream",
     "text": [
      "Hello raju, my name is Radha. I am 25 years old.\n"
     ]
    }
   ],
   "source": [
    "Person.say_hello(person1,\"raju\")"
   ]
  },
  {
   "cell_type": "code",
   "execution_count": 29,
   "id": "8f9ed8c6",
   "metadata": {},
   "outputs": [],
   "source": [
    "class Person:\n",
    "    def __init__(self, name, age, gender, height, weight):\n",
    "        self.name = name\n",
    "        self.age = age\n",
    "        self.gender = gender\n",
    "        self.height = height\n",
    "        self.weight = weight\n",
    "\n",
    "    def say_hello(self):\n",
    "        print(f\"Hello, my name is {self.name}. I am {self.age} years old.\")\n",
    "\n",
    "    def get_bmi(self):\n",
    "        return self.weight / (self.height ** 2)"
   ]
  },
  {
   "cell_type": "code",
   "execution_count": 30,
   "id": "93259c92",
   "metadata": {},
   "outputs": [],
   "source": [
    "person1 = Person(\"Dhan Maya\", 25, \"female\", 1.6, 60)\n",
    "person2 = Person(\"Dhan Bahadur\", 30, \"male\", 1.8, 80)"
   ]
  },
  {
   "cell_type": "code",
   "execution_count": 31,
   "id": "7ddd8f2c",
   "metadata": {},
   "outputs": [
    {
     "name": "stdout",
     "output_type": "stream",
     "text": [
      "Hello, my name is Dhan Maya. I am 25 years old.\n"
     ]
    }
   ],
   "source": [
    "person1.say_hello()"
   ]
  },
  {
   "cell_type": "code",
   "execution_count": 32,
   "id": "a75725b6",
   "metadata": {},
   "outputs": [
    {
     "name": "stdout",
     "output_type": "stream",
     "text": [
      "Hello, my name is Dhan Bahadur. I am 30 years old.\n"
     ]
    }
   ],
   "source": [
    "person2.say_hello()"
   ]
  },
  {
   "cell_type": "code",
   "execution_count": 41,
   "id": "e08f557d",
   "metadata": {},
   "outputs": [
    {
     "data": {
      "text/plain": [
       "False"
      ]
     },
     "execution_count": 41,
     "metadata": {},
     "output_type": "execute_result"
    }
   ],
   "source": [
    "person1.get_bmi() > person2.get_bmi()"
   ]
  },
  {
   "cell_type": "markdown",
   "id": "fe48f51f",
   "metadata": {},
   "source": [
    "When learning object-oriented programming (OOP) for the first time, understanding the concepts of self, methods, and constructors can be a bit confusing. Here is a brief explanation of each concept:\n",
    "\n",
    "1. Self:<br>\n",
    "In OOP, the term \"self\" refers to the instance of a class that is currently being operated on. It is a reference to the object itself. When we create an object from a class, the object has its own unique properties and values, which we can access using the \"self\" keyword. In other words, \"self\" is a way for us to access the attributes and methods of an object from within the object itself.\n",
    "\n",
    "\n",
    "2. Methods:<br>\n",
    "A method is a function that is associated with a class or an object. It represents a behavior or an action that the object can perform. In Python, methods are defined inside a class and can access the object's attributes using the \"self\" keyword. For example, if we have a Person class, we might define a method called \"speak\" that allows the person to say something.\n",
    "\n",
    "\n",
    "3. Constructors:<br>\n",
    "A constructor is a special type of method that is called when an object is created from a class. It is used to initialize the object's attributes and values. In Python, the constructor method is called \"init\" and takes in the \"self\" parameter, as well as any other parameters that we want to use to initialize the object's attributes. For example, if we have a Person class, we might define a constructor that takes in the person's name, age, and gender and initializes those attributes for the object."
   ]
  },
  {
   "cell_type": "markdown",
   "id": "a612df96",
   "metadata": {},
   "source": [
    "# Always Remember\n",
    "In Python, a class is like a blueprint for creating objects. A class defines the attributes (i.e. variables) and methods (i.e. functions) that an object will have, but it doesn't actually create the object itself. To create an object, you need to create an instance of the class.\n",
    "\n",
    "Here's an example Dog class:"
   ]
  },
  {
   "cell_type": "code",
   "execution_count": 46,
   "id": "f7f379d1",
   "metadata": {},
   "outputs": [],
   "source": [
    "class Dog:\n",
    "    def __init__(self, name, breed, age):\n",
    "        self.name = name\n",
    "        self.breed = breed\n",
    "        self.age = age\n",
    "\n",
    "    def bark(self):\n",
    "        print(f\"{self.name} says woof!\")\n",
    "        \n",
    "    def sit(self):\n",
    "        print(f\"{self.name} is sitting!!\")\n",
    "        \n",
    "    def greet(self):\n",
    "        print(f\"{self.name} says Woof Hooman!\")\n"
   ]
  },
  {
   "cell_type": "markdown",
   "id": "6ff11f2d",
   "metadata": {},
   "source": [
    "In this example, the Dog class has three attributes: name, breed, and age. The init method is a constructor, which is called when a new instance of the Dog class is created. The constructor takes in three parameters: name, breed, and age. It then sets the instance's name, breed, and age attributes to the values of those parameters.\n",
    "\n",
    "The Dog class also has a bark method, which simply prints out a message indicating that the dog has barked. The bark method takes in a self parameter, which refers to the instance of the Dog class that the method is being called on and same for sit and greet methods.\n",
    "\n",
    "To create an instance of the Dog class, you simply call the class like a function and pass in the required parameters:"
   ]
  },
  {
   "cell_type": "code",
   "execution_count": 47,
   "id": "b67989c1",
   "metadata": {},
   "outputs": [],
   "source": [
    "my_dog = Dog(\"Kaley\", \"Golden Retriever\", 5)"
   ]
  },
  {
   "cell_type": "code",
   "execution_count": 48,
   "id": "57d3c402",
   "metadata": {},
   "outputs": [
    {
     "data": {
      "text/plain": [
       "('Kaley', 'Golden Retriever', 5)"
      ]
     },
     "execution_count": 48,
     "metadata": {},
     "output_type": "execute_result"
    }
   ],
   "source": [
    "my_dog.name, my_dog.breed, my_dog.age"
   ]
  },
  {
   "cell_type": "code",
   "execution_count": 49,
   "id": "27b7b408",
   "metadata": {},
   "outputs": [
    {
     "name": "stdout",
     "output_type": "stream",
     "text": [
      "Kaley says woof!\n"
     ]
    }
   ],
   "source": [
    "my_dog.bark()"
   ]
  },
  {
   "cell_type": "code",
   "execution_count": 50,
   "id": "00093027",
   "metadata": {},
   "outputs": [
    {
     "name": "stdout",
     "output_type": "stream",
     "text": [
      "Kaley is sitting!!\n"
     ]
    }
   ],
   "source": [
    "my_dog.sit()"
   ]
  },
  {
   "cell_type": "code",
   "execution_count": 51,
   "id": "10fa503b",
   "metadata": {},
   "outputs": [
    {
     "name": "stdout",
     "output_type": "stream",
     "text": [
      "Kaley says Woof Hooman!\n"
     ]
    }
   ],
   "source": [
    "my_dog.greet()"
   ]
  },
  {
   "cell_type": "markdown",
   "id": "d419ad89",
   "metadata": {},
   "source": [
    "# Double Underscore (Dunder) Methods\n",
    "Here are the most popular and widely used list of Special or dunder methods in Python.\n",
    "\n",
    "## Basic Customizations\n",
    "__new__(self) return a new object (an instance of that class). It is called before __init__ method.\n",
    "\n",
    "__init__(self) is called when the object is initialized. It is the constructor of a class.\n",
    "\n",
    "__del__(self) for del() function. Called when the object is to be destroyed. Can be used to commit unsaved data or close connections.\n",
    "\n",
    "__repr__(self) for repr() function. It returns a string to print the object. Intended for developers to debug. Must be implemented in any class.\n",
    "\n",
    "__str__(self) for str() function. Return a string to print the object. Intended for users to see a pretty and useful output. If not implemented, __repr__ will be used as a fallback.\n",
    "\n",
    "__bytes__(self) for bytes() function. Return a byte object which is the byte string representation of the object.\n",
    "\n",
    "__format__(self) for format() function. Evaluate formatted string literals like % for percentage format and ‘b’ for binary.\n",
    "\n",
    "__lt__(self, anotherObj) for < operator.\n",
    "\n",
    "__le__(self, anotherObj) for <= operator.\n",
    "\n",
    "__eq__(self, anotherObj) for == operator.\n",
    "\n",
    "__ne__(self, anotherObj) for != operator.\n",
    "\n",
    "__gt__(self, anotherObj)for > operator.\n",
    "\n",
    "__ge__(self, anotherObj)for >= operator.\n",
    "\n",
    "## Arithmetic Operators\n",
    "__add__(self, anotherObj) for + operator.\n",
    "\n",
    "__sub__(self, anotherObj) for – operation on object.\n",
    "\n",
    "__mul__(self, anotherObj) for * operation on object.\n",
    "\n",
    "__matmul__(self, anotherObj) for @ operator (numpy matrix multiplication).\n",
    "\n",
    "__truediv__(self, anotherObj) for simple / division operation on object.\n",
    "\n",
    "__floordiv__(self, anotherObj) for // floor division operation on object.\n",
    "## Type Conversion\n",
    "__abs__(self) make support for abs() function. Return absolute value.\n",
    "\n",
    "__int__(self) support for int() function. Returns the integer value of the object.\n",
    "\n",
    "__float__(self) for float() function support. Returns float equivalent of the object.\n",
    "\n",
    "__complex__(self) for complex() function support. Return complex value representation of the \n",
    "object.\n",
    "\n",
    "__round__(self, nDigits) for round() function. Round off float type to 2 digits and return \n",
    "it.\n",
    "\n",
    "__trunc__(self) for trunc() function of math module. Returns the real value of the object.\n",
    "\n",
    "__ceil__(self) for ceil() function of math module. The ceil function Return ceiling value of the object.\n",
    "\n",
    "__floor__(self) for floor() function of math module. Return floor value of the object.\n",
    "Emulating Container Types\n",
    "\n",
    "__len__(self) for len() function. Returns the total number in any container.\n",
    "\n",
    "__getitem__(self, key) to support indexing. LIke container[index] calls container.__getitem(key)explicitly.\n",
    "\n",
    "__setitem__(self, key, value) makes item mutable (items can be changed by index), like container[index] = otherElement.\n",
    "\n",
    "__delitem__(self, key) for del() function. Delete the value at the index key.\n",
    "\n",
    "__iter__(self) returns an iterator when required that iterates all values in the container."
   ]
  },
  {
   "cell_type": "code",
   "execution_count": 7,
   "id": "11c39747",
   "metadata": {},
   "outputs": [
    {
     "name": "stdout",
     "output_type": "stream",
     "text": [
      "2\n"
     ]
    },
    {
     "data": {
      "text/plain": [
       "4"
      ]
     },
     "execution_count": 7,
     "metadata": {},
     "output_type": "execute_result"
    }
   ],
   "source": [
    "class MyList:\n",
    "    def __init__(self, *args):\n",
    "        self.items = list(args)\n",
    "\n",
    "    def __getitem__(self, index):\n",
    "        return self.items[index]\n",
    "    \n",
    "    def __setitem__(self, index, value):\n",
    "        self.items[index] = value\n",
    "\n",
    "mylist = MyList(1, 2, 3)\n",
    "print(mylist[1]) \n",
    "\n",
    "mylist[1] = 4\n",
    "\n",
    "mylist[1]"
   ]
  },
  {
   "cell_type": "markdown",
   "id": "47456556",
   "metadata": {},
   "source": [
    "# Introduction to Inheritance\n",
    "In Python, inheritance is a way to create a new class that is a modified version of an existing class. The new class, called the subclass, inherits all the attributes and methods of the existing class, called the superclass. The subclass can then add new attributes and methods, or override the existing ones, to create a new class that is more specific or specialized.\n",
    "\n",
    "Here's an example of how inheritance works in Python:"
   ]
  },
  {
   "cell_type": "code",
   "execution_count": 8,
   "id": "06ac9089",
   "metadata": {},
   "outputs": [
    {
     "name": "stdout",
     "output_type": "stream",
     "text": [
      "Fido\n",
      "Dog\n",
      "Golden Retriever\n",
      "The dog barks.\n",
      "Whiskers\n",
      "Cat\n",
      "Gray\n",
      "The cat meows.\n"
     ]
    }
   ],
   "source": [
    "class Animal:\n",
    "    def __init__(self, name, species):\n",
    "        self.name = name\n",
    "        self.species = species\n",
    "    \n",
    "    def make_sound(self):\n",
    "        print(\"The animal makes a sound.\")\n",
    "\n",
    "class Dog(Animal):\n",
    "    def __init__(self, name, breed):\n",
    "        super().__init__(name, species=\"Dog\")\n",
    "        self.breed = breed\n",
    "    \n",
    "    def make_sound(self):\n",
    "        print(\"The dog barks.\")\n",
    "\n",
    "class Cat(Animal):\n",
    "    def __init__(self, name, color):\n",
    "        super().__init__(name, species=\"Cat\")\n",
    "        self.color = color\n",
    "    \n",
    "    def make_sound(self):\n",
    "        print(\"The cat meows.\")\n",
    "\n",
    "dog = Dog(\"Fido\", \"Golden Retriever\")\n",
    "cat = Cat(\"Whiskers\", \"Gray\")\n",
    "\n",
    "print(dog.name) # Output: Fido\n",
    "print(dog.species) # Output: Dog\n",
    "print(dog.breed) # Output: Golden Retriever\n",
    "dog.make_sound() # Output: The dog barks.\n",
    "\n",
    "print(cat.name) # Output: Whiskers\n",
    "print(cat.species) # Output: Cat\n",
    "print(cat.color) # Output: Gray\n",
    "cat.make_sound() # Output: The cat meows.\n"
   ]
  },
  {
   "cell_type": "markdown",
   "id": "f78cefc3",
   "metadata": {},
   "source": [
    "In this example, Animal is the superclass, and Dog and Cat are subclasses. The Dog and Cat classes inherit the \\_\\_init__ and make_sound methods from the Animal class, but they also define their own unique attributes and methods.\n",
    "\n",
    "The Dog class overrides the make_sound method of the Animal class, to make it more specific to dogs. The Cat class also overrides the make_sound method, to make it more specific to cats.\n",
    "\n",
    "When we create instances of the Dog and Cat classes, they inherit the attributes and methods of their superclass, but also have their own unique attributes and methods.\n",
    "\n",
    "Overall, inheritance in Python is a powerful way to create new classes that are based on existing classes, and can help you write more efficient, readable, and maintainable code."
   ]
  },
  {
   "cell_type": "code",
   "execution_count": null,
   "id": "17549ea9",
   "metadata": {},
   "outputs": [],
   "source": []
  }
 ],
 "metadata": {
  "kernelspec": {
   "display_name": "Python 3 (ipykernel)",
   "language": "python",
   "name": "python3"
  },
  "language_info": {
   "codemirror_mode": {
    "name": "ipython",
    "version": 3
   },
   "file_extension": ".py",
   "mimetype": "text/x-python",
   "name": "python",
   "nbconvert_exporter": "python",
   "pygments_lexer": "ipython3",
   "version": "3.8.13"
  }
 },
 "nbformat": 4,
 "nbformat_minor": 5
}
